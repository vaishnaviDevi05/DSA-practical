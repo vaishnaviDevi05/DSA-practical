{
 "cells": [
  {
   "cell_type": "markdown",
   "metadata": {},
   "source": [
    "#  Finding the size of binary tree using level order traversal"
   ]
  },
  {
   "cell_type": "markdown",
   "metadata": {},
   "source": [
    "## Level order traversal - Traversing the nodes level by level also known as breadth first traversal "
   ]
  },
  {
   "cell_type": "markdown",
   "metadata": {},
   "source": [
    "## Algorithm "
   ]
  },
  {
   "cell_type": "markdown",
   "metadata": {},
   "source": [
    "Step 1: Create a queue.                                                                                                        \n",
    "\n",
    "Step 2: Push root_node into the queue.                                                                                        \n",
    "\n",
    "Step 3: set height = 0                                                                                                         \n",
    "\n",
    "Step 4: Repeat the below steps until True                                                                                      \n",
    "\n",
    "Step 4.1: Assign n to size of queue                                                                                            \n",
    "\n",
    "step 4.2: if n is 0 goto step 4.2.1 else goto step 4.2.2                                                                       \n",
    "\n",
    "step 4.2.1: return Height                                                                                                      \n",
    "\n",
    "step 4.2.2: increase Height                                                                                                    \n",
    "\n",
    "step 4.3: Repeat the below steps until n>0:                                                                                    \n",
    "\n",
    "Step 4.3.1: pop node from front                                                                                               \n",
    "\n",
    "Step 4.3.2: push its children to queue                                                                                        \n",
    "\n",
    "Step 4.3.3: decrease n                                                                                                        \n",
    "\n",
    "Step 5: Display the value returned by height                                                                                    \n",
    "       "
   ]
  },
  {
   "cell_type": "code",
   "execution_count": 1,
   "metadata": {},
   "outputs": [],
   "source": [
    "def size(root_node):\n",
    "    if root_node is None:\n",
    "        return 0\n",
    "    q = []\n",
    "    q.append(root_node)\n",
    "    height = 0\n",
    "    while(True):         \n",
    "        n = len(q)\n",
    "        if n == 0 :\n",
    "            return height     \n",
    "        height += 1\n",
    "        while(n > 0):\n",
    "            node = q[0]\n",
    "            q.pop(0)\n",
    "            if node.left is not None:\n",
    "                q.append(node.left)\n",
    "            if node.right is not None:\n",
    "                q.append(node.right)\n",
    "            n -= 1"
   ]
  },
  {
   "cell_type": "code",
   "execution_count": 2,
   "metadata": {},
   "outputs": [],
   "source": [
    "class Node:\n",
    "    def __init__(self, data):\n",
    "        self.data = data\n",
    "        self.left = None\n",
    "        self.right = None"
   ]
  },
  {
   "cell_type": "code",
   "execution_count": 3,
   "metadata": {},
   "outputs": [
    {
     "name": "stdout",
     "output_type": "stream",
     "text": [
      "3\n"
     ]
    }
   ],
   "source": [
    "root_node = Node(6)\n",
    "root_node.left = Node(3)\n",
    "root_node.right = Node(9)\n",
    "root_node.left.left = Node(1)\n",
    "root_node.left.right = Node(5)\n",
    "root_node.right.left = Node(7)\n",
    "root_node.right.right = Node(11)\n",
    "print(size(root_node))"
   ]
  }
 ],
 "metadata": {
  "kernelspec": {
   "display_name": "Python 3",
   "language": "python",
   "name": "python3"
  },
  "language_info": {
   "codemirror_mode": {
    "name": "ipython",
    "version": 3
   },
   "file_extension": ".py",
   "mimetype": "text/x-python",
   "name": "python",
   "nbconvert_exporter": "python",
   "pygments_lexer": "ipython3",
   "version": "3.7.6"
  }
 },
 "nbformat": 4,
 "nbformat_minor": 4
}
