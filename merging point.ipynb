{
 "cells": [
  {
   "cell_type": "markdown",
   "metadata": {},
   "source": [
    "#                      1. Program to find the merging point of linked list"
   ]
  },
  {
   "cell_type": "markdown",
   "metadata": {},
   "source": [
    "## Approach"
   ]
  },
  {
   "cell_type": "markdown",
   "metadata": {},
   "source": [
    "The number of nodes in traversing the first linked list and then from the head of the second linked list to intersection point is equal to the number of nodes involved in traversing the second linked list and then from head of the first list to the intersection point."
   ]
  },
  {
   "cell_type": "markdown",
   "metadata": {},
   "source": [
    "##  1 A. Algorithm"
   ]
  },
  {
   "cell_type": "markdown",
   "metadata": {},
   "source": [
    "Step 1: create node class  \n",
    "\n",
    "Step 2: In mergingPoint()\n",
    "\n",
    "  step 2.1: Assign a to head1 and b to head2     \n",
    "  \n",
    "  \n",
    "  step 2.2: Repeat the below steps until a!=b else goto step 2.3\n",
    "  \n",
    "  step 2.2.1: if a is None goto step 2.2.2 else goto step 2.2.3 \n",
    "    \n",
    "  step 2.2.2: assign a to head of second linked list\n",
    "    \n",
    "  step 2.2.3: Else update the pointer to next node  \n",
    "    \n",
    "  step 2.2.4: if b is None goto step 2.2.5 else goto step 2.2.6\n",
    "    \n",
    "  step 2.2.5: assign b to head of first linked list \n",
    "    \n",
    "  step 2.2.6: Else update the pointer to next node \n",
    "    \n",
    "  Step 2.3: return the data pointed by a \n",
    "  \n",
    "Step 3: Display the returned value                                                                                                 \n",
    "    \n",
    "    \n",
    "    "
   ]
  },
  {
   "cell_type": "code",
   "execution_count": 1,
   "metadata": {},
   "outputs": [],
   "source": [
    "def mergingPoint( head1, head2):\n",
    "    a = head1\n",
    "    b = head2\n",
    "    while (a != b):\n",
    "        if (a == None) :\n",
    "            a = head2 # if first pointer is none set it to head of second linked list\n",
    "        else:\n",
    "            a = a.next\n",
    "        if (b == None):\n",
    "            b = head1 # if second pointer is none set it to head of first linked list\n",
    "        else:\n",
    "            b = b.next\n",
    "         \n",
    "    return a.data # return the data pointed by first pointer"
   ]
  },
  {
   "cell_type": "code",
   "execution_count": 2,
   "metadata": {},
   "outputs": [],
   "source": [
    "class Node:\n",
    "    def __init__(self):\n",
    "        self.data = 0\n",
    "        self.next = None"
   ]
  },
  {
   "cell_type": "code",
   "execution_count": 3,
   "metadata": {},
   "outputs": [
    {
     "name": "stdout",
     "output_type": "stream",
     "text": [
      "7\n"
     ]
    }
   ],
   "source": [
    "newnode = None\n",
    "head1 = Node()\n",
    "head1.data = 5\n",
    "head2 = Node()\n",
    "head2.data = 4\n",
    "newnode = Node()\n",
    "newnode.data = 6\n",
    "head1.next = newnode\n",
    "newnode = Node()\n",
    "newnode.data = 7\n",
    "head1.next.next = newnode\n",
    "head2.next = newnode\n",
    "newnode = Node()\n",
    "newnode.data = 1\n",
    "head1.next.next.next = newnode\n",
    "newnode = Node()\n",
    "newnode.data = 2\n",
    "head1.next.next.next.next = newnode\n",
    "head1.next.next.next.next.next = None\n",
    "print(mergingPoint(head1, head2))"
   ]
  },
  {
   "cell_type": "markdown",
   "metadata": {},
   "source": [
    "## 1 B.  Can we solve this using the sorting technique?"
   ]
  },
  {
   "cell_type": "markdown",
   "metadata": {},
   "source": [
    "Yes, we can find the merging point using sorting technique below is the algorithm for the implementation\n",
    "\n",
    "ALGORITHM:\n",
    "\n",
    "Step 1: Create an array and store the addresses of all nodes                                                                   \n",
    "\n",
    "Step 2: Now sort this array.\n",
    "\n",
    "Step 3: For each element in the second list, from the beginning search for the address in the array. \n",
    "\n",
    "Step 4: If we find a same memory address, that means that is the merging point of the 2 lists.\n",
    "\n",
    "Time Complexity:  Time for sorting + Time for searching each element = O(Max(m*log(m), n*log(n)))\n",
    "\n",
    "Space Complexity:  O(Max(m,n))"
   ]
  },
  {
   "cell_type": "markdown",
   "metadata": {},
   "source": [
    "## 1 C. Can we solve it using hash tables?"
   ]
  },
  {
   "cell_type": "markdown",
   "metadata": {},
   "source": [
    "Yes, we can find the merging point using Hashing below is the algorithm for the implementation\n",
    "\n",
    "ALGORITHM:\n",
    "\n",
    "\n",
    "Step 1: Select a List, that has fewer number of elements.\n",
    "        If both the lists have same number of elements, select any list at random.\n",
    "        \n",
    "Step 2: Create a hash table using the list with fewer elements.\n",
    "        Creating a hash table means storing the address of each of the nodes of the smaller list\n",
    "        in a separate data structure such as an array.\n",
    "\n",
    "Step 3: Now, traverse the other list and compare the address of each of the node with the values in the hash table.\n",
    "    \n",
    "Step 4: If there exists an intersection point, certainly we will find a match in the hash table\n",
    "        and we will obtain the intersection point.\n",
    "        \n",
    "Time Complexity:  Time for creating hash table + Time for scanning the list\n",
    "\n",
    "Space Complexity:  O(m) or O(n), depending upon the smaller size list.\n",
    "\n"
   ]
  },
  {
   "cell_type": "markdown",
   "metadata": {},
   "source": [
    "## 1 D Can we use stacks for solving? "
   ]
  },
  {
   "cell_type": "markdown",
   "metadata": {},
   "source": [
    "Yes, we can find the merging point using stacks below is the algorithm for the implementation\n",
    "\n",
    "ALGORITHM\n",
    "\n",
    "Step 1: Create 2 different stacks for both the lists.\n",
    "\n",
    "Step 2: Push all the elements of both the lists in the 2 stacks.\n",
    "\n",
    "Step 3: Now start poping the elements from both the stacks at once.\n",
    "\n",
    "Step 4: Till both the lists are merged, we will get the same value from both the stacks.\n",
    "\n",
    "Step 5: As soon as both the stacks return different value, we know that the last popped element\n",
    "        was the merging point of the lists.\n",
    "\n",
    "Step 6: Return the last popped element from the stack.\n",
    "    \n",
    "Time Complexity:  O(m+n) for scanning both the lists.\n",
    "    \n",
    "Space Complexity:  O(m+n) for creating the two stacks.\n"
   ]
  },
  {
   "cell_type": "markdown",
   "metadata": {},
   "source": [
    "##  1 E. Is there any other way of solving this ?"
   ]
  },
  {
   "cell_type": "markdown",
   "metadata": {},
   "source": [
    "The other way of solving is to make first linked list as circle and below is the algorithm for the implementation\n",
    "\n",
    "ALGORITHM\n",
    "\n",
    "Step 1: Traverse the first linked list  and make a circular linked list. \n",
    "\n",
    "Step 2: Now view the problem as finding the loop in the second linked list.\n",
    "\n",
    "Step 3: By knowing the length of the loop in first linked list. we can traverse those many numbers of nodes in the second list\n",
    "        \n",
    "        and then start another pointer from the beginning of the second list. Traverse until they are equal        \n",
    "        \n",
    "        and that is the required intersection point.\n",
    "\n",
    "Step 4: remove the circle from the linked list. \n",
    "\n",
    "Time Complexity: O(m+n) \n",
    "\n",
    "Space Complexity: O(1)"
   ]
  },
  {
   "cell_type": "markdown",
   "metadata": {},
   "source": [
    "## 1 F. Can we improve the complexity for? "
   ]
  },
  {
   "cell_type": "markdown",
   "metadata": {},
   "source": [
    "ALGORITHM\n",
    "\n",
    "Step 1: Find the length of both the lists. Let ‘m’ be the length of List 1 and ‘n’ be the length of List 2.\n",
    "\n",
    "Step 2: Find the difference in length of both the lists. d = m – n\n",
    "\n",
    "Step 3: Move ahead ‘d’ steps in the longer list.\n",
    "\n",
    "Step 4: This means that we have reached a point after which, both of the lists have same number of nodes till the end.\n",
    "\n",
    "Step 5: Now move ahead in both the lists in parallel, till the ‘NEXT’ of both the lists is not the same.\n",
    "\n",
    "Step 6: The NEXT at which both the lists are same is the merging point of both the lists.\n",
    "\n",
    "Time Complexity: O(max(m,n))\n",
    "\n",
    "Space Complexity: O(1)"
   ]
  },
  {
   "cell_type": "code",
   "execution_count": null,
   "metadata": {},
   "outputs": [],
   "source": []
  }
 ],
 "metadata": {
  "kernelspec": {
   "display_name": "Python 3",
   "language": "python",
   "name": "python3"
  },
  "language_info": {
   "codemirror_mode": {
    "name": "ipython",
    "version": 3
   },
   "file_extension": ".py",
   "mimetype": "text/x-python",
   "name": "python",
   "nbconvert_exporter": "python",
   "pygments_lexer": "ipython3",
   "version": "3.7.6"
  }
 },
 "nbformat": 4,
 "nbformat_minor": 4
}
